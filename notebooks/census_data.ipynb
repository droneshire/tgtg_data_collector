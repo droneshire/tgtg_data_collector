{
 "cells": [
  {
   "cell_type": "code",
   "execution_count": null,
   "id": "48f8d283",
   "metadata": {},
   "outputs": [],
   "source": [
    "import dotenv\n",
    "import json\n",
    "import os\n",
    "import requests\n",
    "import sys\n",
    "from rich.progress import track\n",
    "from concurrent.futures import ThreadPoolExecutor, as_completed\n",
    "\n",
    "import censusgeocode\n",
    "\n",
    "from census import Census\n",
    "from us import states\n",
    "\n",
    "dotenv.load_dotenv()\n",
    "\n",
    "\n",
    "CURRENT_DIR = %pwd\n",
    "ROOT_DIR = os.path.dirname(CURRENT_DIR)\n",
    "\n",
    "SRC_DIR = os.path.join(ROOT_DIR, 'src')\n",
    "sys.path.append(SRC_DIR)\n",
    "\n",
    "CENSUS_API_KEY = os.environ[\"CENSUS_API_KEY\"]\n",
    "GOOGLE_API_KEY = os.environ[\"GOOGLE_MAPS_PLACES_API_KEY\"]\n"
   ]
  },
  {
   "cell_type": "code",
   "execution_count": null,
   "id": "777f9887",
   "metadata": {},
   "outputs": [],
   "source": [
    "from search_context.us_census import USCensusAPI\n",
    "from search_context.google_places import GooglePlacesAPI\n"
   ]
  },
  {
   "cell_type": "code",
   "execution_count": null,
   "id": "ed2a1f46",
   "metadata": {},
   "outputs": [],
   "source": [
    "api = USCensusAPI(CENSUS_API_KEY, verbose=True)\n",
    "api.warm_cache()\n",
    "api.get_census_data_from_address(\"B01003_001E\", \"2685 California Street, Mountain View, CA\")"
   ]
  },
  {
   "cell_type": "code",
   "execution_count": null,
   "id": "cc014974",
   "metadata": {},
   "outputs": [],
   "source": [
    "\n",
    "api.get_census_data_from_address([\"B01003_001E\", \"B01001_002E\"], \"2685 California Street, Mountain View, CA\")\n"
   ]
  },
  {
   "cell_type": "code",
   "execution_count": null,
   "id": "fe0a8c13",
   "metadata": {},
   "outputs": [],
   "source": [
    "c = Census(CENSUS_API_KEY)\n",
    "c.acs5.get(('NAME', 'B25034_010E'),\n",
    "          {'for': 'state:{}'.format(states.MD.fips)})"
   ]
  },
  {
   "cell_type": "code",
   "execution_count": null,
   "id": "0a321103",
   "metadata": {},
   "outputs": [],
   "source": [
    "tables = c.acs5.tables()"
   ]
  },
  {
   "cell_type": "code",
   "execution_count": null,
   "id": "fcc75201",
   "metadata": {},
   "outputs": [],
   "source": [
    "censusgeocode.addressbatch(\"./data/batchaddress.csv\")"
   ]
  },
  {
   "cell_type": "code",
   "execution_count": null,
   "id": "9c9b6f32",
   "metadata": {},
   "outputs": [],
   "source": [
    "c.acs5.groups_url % (\"2020\", \"acs5\")"
   ]
  },
  {
   "cell_type": "code",
   "execution_count": null,
   "id": "ec3a1b50",
   "metadata": {},
   "outputs": [],
   "source": [
    "len(tables)"
   ]
  },
  {
   "cell_type": "code",
   "execution_count": null,
   "id": "bf4d75bc",
   "metadata": {},
   "outputs": [],
   "source": [
    "fmt_url_old = c.acs5.groups_url % (\"2020\", \"acs5\")\n",
    "fmt_url = fmt_url_old.rsplit('.', 1)[0]\n",
    "fmt_url = os.path.join(fmt_url, \"{}.json\")\n",
    "\n",
    "def fetch_url(url):\n",
    "    print(url)\n",
    "    try:\n",
    "        response = requests.get(url, timeout=5.0)\n",
    "    except Exception as e:\n",
    "        print(f\"Fail: {e}\")\n",
    "        return None\n",
    "    return response.json()\n",
    "\n",
    "\n",
    "table_options = {}\n",
    "urls = [fmt_url.format(group[\"name\"]) for group in tables]\n",
    "\n",
    "futures = []\n",
    "with ThreadPoolExecutor(max_workers=10) as executor:\n",
    "    futures = [executor.submit(fetch_url, url) for url in urls]\n"
   ]
  },
  {
   "cell_type": "code",
   "execution_count": null,
   "id": "b3733ccd",
   "metadata": {},
   "outputs": [],
   "source": [
    "for future in as_completed(futures):\n",
    "    try:\n",
    "        result = future.result()\n",
    "    except:\n",
    "        continue\n",
    "    if result is None:\n",
    "        print(f\"Failed {url}\")\n",
    "        continue\n",
    "    print(result)\n",
    "    table_options.update(result[\"variables\"])"
   ]
  },
  {
   "cell_type": "code",
   "execution_count": null,
   "id": "988d7691",
   "metadata": {},
   "outputs": [],
   "source": [
    "with open(\"census_codes.json\", \"w\") as outfile:\n",
    "    json.dump(table_options, outfile, indent=4)\n"
   ]
  },
  {
   "cell_type": "code",
   "execution_count": null,
   "id": "5518a3af",
   "metadata": {},
   "outputs": [],
   "source": [
    "len(table_options.keys())"
   ]
  },
  {
   "cell_type": "code",
   "execution_count": null,
   "id": "e41bcd35",
   "metadata": {},
   "outputs": [],
   "source": [
    "c.sf1.get('NAME', geo={'for': 'tract:*',\n",
    "                       'in': 'state:{} county:085'.format(states.CA.fips)})\n"
   ]
  },
  {
   "cell_type": "code",
   "execution_count": null,
   "id": "f9a9c0cc",
   "metadata": {},
   "outputs": [],
   "source": [
    "c.acs5.state_zipcode(\"B01001_004E\", Census.ALL, 94040)"
   ]
  },
  {
   "cell_type": "code",
   "execution_count": null,
   "id": "f636f2ab",
   "metadata": {},
   "outputs": [],
   "source": [
    "c.acs5.state_zipcode(\"B01001_004E\", states.CA.fips, 94040)"
   ]
  },
  {
   "cell_type": "code",
   "execution_count": null,
   "id": "192dc270",
   "metadata": {},
   "outputs": [],
   "source": [
    "result = censusgeocode.onelineaddress(\"2645 California Street, Mountain View, CA\")"
   ]
  },
  {
   "cell_type": "code",
   "execution_count": null,
   "id": "c7fde51f",
   "metadata": {},
   "outputs": [],
   "source": [
    "result"
   ]
  },
  {
   "cell_type": "code",
   "execution_count": null,
   "id": "15d4a9ba",
   "metadata": {},
   "outputs": [],
   "source": [
    "states.CA.fips\n"
   ]
  },
  {
   "cell_type": "code",
   "execution_count": null,
   "id": "e264922a",
   "metadata": {},
   "outputs": [],
   "source": [
    "c.acs5.state_county_blockgroup(\"B01003_001E\", states.CA.fips, \"085\", \"3\", \"509401\")"
   ]
  },
  {
   "cell_type": "code",
   "execution_count": null,
   "id": "f21e6dbf",
   "metadata": {},
   "outputs": [],
   "source": [
    "api = USCensusAPI(CENSUS_API_KEY, verbose=True)\n",
    "api.warm_cache()\n",
    "api.get_census_data_from_address(\"B01003_001E\", \"2685 California Street, Mountain View, CA\")\n",
    "api.get_census_data_from_lat_long(\"B01003_001E\", 37.4069801, -122.1144634)"
   ]
  },
  {
   "cell_type": "code",
   "execution_count": null,
   "id": "31eaab8d",
   "metadata": {},
   "outputs": [],
   "source": [
    "censusgeocode.coordinates(37.4069801, -122.1144634)"
   ]
  },
  {
   "cell_type": "code",
   "execution_count": null,
   "id": "772d9878",
   "metadata": {},
   "outputs": [],
   "source": []
  }
 ],
 "metadata": {
  "kernelspec": {
   "display_name": "venv",
   "language": "python",
   "name": "python3"
  },
  "language_info": {
   "codemirror_mode": {
    "name": "ipython",
    "version": 3
   },
   "file_extension": ".py",
   "mimetype": "text/x-python",
   "name": "python",
   "nbconvert_exporter": "python",
   "pygments_lexer": "ipython3",
   "version": "3.11.6"
  }
 },
 "nbformat": 4,
 "nbformat_minor": 5
}

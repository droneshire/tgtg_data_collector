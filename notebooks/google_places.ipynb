{
 "cells": [
  {
   "cell_type": "code",
   "execution_count": 1,
   "metadata": {},
   "outputs": [
    {
     "data": {
      "text/plain": [
       "True"
      ]
     },
     "execution_count": 1,
     "metadata": {},
     "output_type": "execute_result"
    }
   ],
   "source": [
    "import dotenv\n",
    "import json\n",
    "import math\n",
    "import os\n",
    "import sys\n",
    "import typing as T\n",
    "\n",
    "import plotly.express as px\n",
    "\n",
    "current_dir = %pwd\n",
    "root_dir = os.path.dirname(current_dir)\n",
    "src_dir = os.path.join(root_dir, 'src')\n",
    "sys.path.append(src_dir)\n",
    "\n",
    "dotenv.load_dotenv()"
   ]
  },
  {
   "cell_type": "code",
   "execution_count": 2,
   "metadata": {},
   "outputs": [],
   "source": [
    "from demographics.google_places import GooglePlacesAPI\n",
    "from demographics.util import get_viewport, get_grid_coordinates\n",
    "\n",
    "API_KEY = os.getenv(\"GOOGLE_MAPS_PLACES_API_KEY\")\n",
    "\n",
    "assert API_KEY, \"API_KEY not found in environment variables\"\n",
    "\n",
    "METERS_PER_MILE = 1609.34"
   ]
  },
  {
   "cell_type": "code",
   "execution_count": 3,
   "metadata": {},
   "outputs": [],
   "source": [
    "google_places = GooglePlacesAPI(API_KEY, verbose=True)"
   ]
  },
  {
   "cell_type": "code",
   "execution_count": 4,
   "metadata": {},
   "outputs": [],
   "source": [
    "def save_json(filename, prompt: str, fields: T.List[str], data: T.Dict[str, T.Any]):\n",
    "    if \"places\" not in data:\n",
    "        print(\"No places found\")\n",
    "        print(f\"Data: {json.dumps(data, indent=2)}\")\n",
    "        return\n",
    "\n",
    "    print(f\"Number of results: {len(results['places'])}\")\n",
    "\n",
    "    print(f\"Saving to {filename}\")\n",
    "    with open(filename, \"w\") as f:\n",
    "        data = {\n",
    "            \"prompt\": prompt,\n",
    "            \"fields\": fields,\n",
    "            \"results\": results\n",
    "        }\n",
    "        json.dump(data, f, indent=2)\n",
    "import math\n"
   ]
  },
  {
   "cell_type": "code",
   "execution_count": 5,
   "metadata": {},
   "outputs": [
    {
     "name": "stdout",
     "output_type": "stream",
     "text": [
      "All bakerys, sandwich_shops, coffee_shops, cafes, fast_food_restaurants, stores, restaurants, foods, point_of_interests, establishment\n"
     ]
    }
   ],
   "source": [
    "ADVANCED_FIELDS = [\n",
    "    \"places.formattedAddress\",\n",
    "    \"places.displayName\",\n",
    "    \"places.nationalPhoneNumber\",\n",
    "    \"places.location\",\n",
    "    \"places.rating\",\n",
    "    \"places.googleMapsUri\",\n",
    "    \"places.websiteUri\",\n",
    "    \"places.regularOpeningHours\",\n",
    "    \"places.businessStatus\",\n",
    "    \"places.priceLevel\",\n",
    "    \"places.userRatingCount\",\n",
    "    \"places.takeout\",\n",
    "    \"places.delivery\",\n",
    "    \"places.dineIn\",\n",
    "    \"places.servesBreakfast\",\n",
    "    \"places.primaryTypeDisplayName\",\n",
    "    \"places.primaryType\",\n",
    "    \"places.editorialSummary\",\n",
    "    \"places.outdoorSeating\",\n",
    "    \"places.servesCoffee\",\n",
    "    \"places.paymentOptions\",\n",
    "    \"places.accessibilityOptions\",\n",
    "]\n",
    "\n",
    "TYPES = [\n",
    "    \"bakery\",\n",
    "    \"sandwich_shop\",\n",
    "    \"coffee_shop\",\n",
    "    \"cafe\",\n",
    "    \"fast_food_restaurant\",\n",
    "    \"store\",\n",
    "    \"restaurant\",\n",
    "    \"food\",\n",
    "    \"point_of_interest\",\n",
    "    \"establishment\",\n",
    "]\n",
    "ADVANCED_PROMPT = f\"All {'s, '.join([t for t in TYPES])}\"\n",
    "\n",
    "print(ADVANCED_PROMPT)\n"
   ]
  },
  {
   "cell_type": "code",
   "execution_count": 6,
   "metadata": {},
   "outputs": [
    {
     "name": "stdout",
     "output_type": "stream",
     "text": [
      "Total searches: 16576\n",
      "Total cost: $663.03\n",
      "Searched area: 250000.00 m^2\n",
      "Total area: 4143960376.96 m^2\n"
     ]
    }
   ],
   "source": [
    "def calculate_cost_from_results(results: T.Dict[str, T.Any], cost_per_square: float, radius_miles: float) -> T.Tuple[int, float]:\n",
    "    meters_per_mile = 1609.34  # One mile in meters\n",
    "    search_block_area = 500 * 500  # Area of one square in square meters\n",
    "\n",
    "    # Convert radius from miles to meters\n",
    "    radius_meters = radius_miles * meters_per_mile\n",
    "    area_width = radius_meters * 2\n",
    "\n",
    "    total_area_meters = area_width * area_width\n",
    "\n",
    "    # Calculate how many 50 meter squares fit into the area\n",
    "    number_of_squares = total_area_meters / search_block_area\n",
    "\n",
    "    total_cost = number_of_squares * cost_per_square\n",
    "\n",
    "    return number_of_squares, total_cost\n",
    "\n",
    "# Conversion factors and constants\n",
    "meters_per_mile = 1609.34  # One mile in meters\n",
    "radius_miles = 20  # Radius in miles\n",
    "search_block_area = 500 * 500  # Area of one square in square meters\n",
    "\n",
    "# Convert radius from miles to meters\n",
    "radius_meters = radius_miles * meters_per_mile\n",
    "area_width = radius_meters * 2\n",
    "\n",
    "total_area_meters = area_width * area_width\n",
    "\n",
    "# Calculate how many 50 meter squares fit into the area\n",
    "number_of_squares = total_area_meters / search_block_area\n",
    "\n",
    "costs_per_square = 0.04  # Cost per square in USD\n",
    "\n",
    "total_cost = number_of_squares * costs_per_square\n",
    "\n",
    "print(f\"Total searches: {number_of_squares:.0f}\")\n",
    "print(f\"Total cost: ${total_cost:.2f}\")\n",
    "print(f\"Searched area: {search_block_area:.2f} m^2\")\n",
    "print(f\"Total area: {total_area_meters:.2f} m^2\")\n"
   ]
  },
  {
   "cell_type": "code",
   "execution_count": 7,
   "metadata": {},
   "outputs": [],
   "source": [
    "locations = {\n",
    "    \"Portland\": {\n",
    "        \"latitude\": 45.54,\n",
    "        \"longitude\": -122.98,\n",
    "    },\n",
    "    \"New York\": {\n",
    "        \"latitude\": 40.71,\n",
    "        \"longitude\": -74.01,\n",
    "    },\n",
    "}\n"
   ]
  },
  {
   "cell_type": "code",
   "execution_count": 8,
   "metadata": {},
   "outputs": [
    {
     "name": "stdout",
     "output_type": "stream",
     "text": [
      "lat_steps: 128, lon_steps: 128\n",
      "Grid size: 16129\n",
      "First 5 grid points: [(45.25264092712729, -123.38960677930046), (45.25264092712729, -123.38319400815088), (45.25264092712729, -123.37678123700128), (45.25264092712729, -123.3703684658517), (45.25264092712729, -123.3639556947021)]\n"
     ]
    }
   ],
   "source": [
    "location = locations[\"Portland\"]\n",
    "radius_miles = 20.0\n",
    "radius_meters = radius_miles * METERS_PER_MILE\n",
    "grid_sqft = 500.0\n",
    "\n",
    "grid = get_grid_coordinates(location[\"latitude\"], location[\"longitude\"], radius_meters, grid_sqft)\n",
    "\n",
    "print(f\"Grid size: {len(grid)}\")\n",
    "print(f\"First 5 grid points: {grid[:5]}\")"
   ]
  },
  {
   "cell_type": "code",
   "execution_count": null,
   "metadata": {},
   "outputs": [],
   "source": [
    "prompt = \"All restaurants\"\n",
    "fields = ADVANCED_FIELDS\n",
    "radius_miles = 0.5\n",
    "# radius_meters = radius_miles * METERS_PER_MILE\n",
    "radius_meters = 150.0\n",
    "location = \"New York\"\n",
    "\n",
    "latitude = locations[location][\"latitude\"]\n",
    "longitude = locations[location][\"longitude\"]\n",
    "\n",
    "rect_viewpoint = get_viewport(latitude, longitude, radius_meters)\n",
    "\n",
    "data = {\n",
    "    \"locationRestriction\": {\n",
    "        \"rectangle\": rect_viewpoint\n",
    "    }\n",
    "}\n",
    "results = google_places.text_search(prompt, fields, data)\n",
    "if \"places\" not in results:\n",
    "    print(\"No results found\")\n",
    "else:\n",
    "    filename = f\"{latitude}_{longitude}_{radius_miles}_location_rect_viewpoint_search.json\"\n",
    "    save_json(filename, prompt, fields, results)\n"
   ]
  },
  {
   "cell_type": "code",
   "execution_count": null,
   "metadata": {},
   "outputs": [],
   "source": [
    "radius_miles = 0.5\n",
    "latitude = 45.54\n",
    "longitude = -122.98\n",
    "prompt = ADVANCED_PROMPT\n",
    "fields = ADVANCED_FIELDS\n",
    "\n",
    "results = google_places.search_location_radius(latitude, longitude, radius_miles, prompt, ADVANCED_FIELDS)\n",
    "filename = f\"{latitude}_{longitude}_{radius_miles}_location_radius_search.json\"\n",
    "save_json(filename, prompt, fields, results)\n"
   ]
  },
  {
   "cell_type": "code",
   "execution_count": null,
   "metadata": {},
   "outputs": [],
   "source": [
    "radius_miles = 1\n",
    "location = \"San Francisco\"\n",
    "prompt = f\"All bakeries within {radius_miles} miles of the center of {location}\"\n",
    "fields = [\"*\"]\n",
    "\n",
    "results = google_places.text_search(prompt, fields)\n",
    "filename = f\"{location}_{radius_miles}_text_search.json\"\n",
    "save_json(filename, prompt, fields, results)"
   ]
  },
  {
   "cell_type": "code",
   "execution_count": null,
   "metadata": {},
   "outputs": [],
   "source": [
    "radius_miles = 1\n",
    "location = \"San Francisco\"\n",
    "prompt = f\"All bakeries within {radius_miles} miles of the center of {location}\"\n",
    "fields = ADVANCED_FIELDS\n",
    "\n",
    "results = google_places.text_search(prompt, fields)\n",
    "filename = f\"{location}_{radius_miles}_text_search.json\"\n",
    "save_json(filename, prompt, fields, results)"
   ]
  },
  {
   "cell_type": "code",
   "execution_count": null,
   "metadata": {},
   "outputs": [],
   "source": [
    "prompt = \"All restaurants\"\n",
    "fields = ADVANCED_FIELDS\n",
    "data = {\n",
    "    \"locationBias\": {\n",
    "        \"circle\": {\n",
    "            \"center\": {\n",
    "                \"latitude\": 45.54,\n",
    "                \"longitude\": -122.98\n",
    "            },\n",
    "            \"radius\": 10.0\n",
    "        }\n",
    "    }\n",
    "}\n",
    "results = google_places.text_search(prompt, fields, data)\n",
    "filename = f\"{latitude}_{longitude}_{radius_miles}_location_radius_search.json\"\n",
    "save_json(filename, prompt, fields, results)"
   ]
  },
  {
   "cell_type": "code",
   "execution_count": null,
   "metadata": {},
   "outputs": [],
   "source": []
  },
  {
   "cell_type": "code",
   "execution_count": null,
   "metadata": {},
   "outputs": [],
   "source": []
  },
  {
   "cell_type": "code",
   "execution_count": null,
   "metadata": {},
   "outputs": [],
   "source": []
  }
 ],
 "metadata": {
  "kernelspec": {
   "display_name": "venv",
   "language": "python",
   "name": "python3"
  },
  "language_info": {
   "codemirror_mode": {
    "name": "ipython",
    "version": 3
   },
   "file_extension": ".py",
   "mimetype": "text/x-python",
   "name": "python",
   "nbconvert_exporter": "python",
   "pygments_lexer": "ipython3",
   "version": "3.11.6"
  }
 },
 "nbformat": 4,
 "nbformat_minor": 2
}

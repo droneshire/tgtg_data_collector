{
 "cells": [
  {
   "cell_type": "code",
   "execution_count": null,
   "metadata": {},
   "outputs": [],
   "source": [
    "import dotenv\n",
    "import json\n",
    "import math\n",
    "import os\n",
    "import sys\n",
    "import typing as T\n",
    "\n",
    "\n",
    "current_dir = %pwd\n",
    "root_dir = os.path.dirname(current_dir)\n",
    "\n",
    "src_dir = os.path.join(root_dir, 'src')\n",
    "sys.path.append(src_dir)\n",
    "\n",
    "dotenv.load_dotenv()"
   ]
  },
  {
   "cell_type": "code",
   "execution_count": null,
   "metadata": {},
   "outputs": [],
   "source": [
    "import plotly.express as px"
   ]
  },
  {
   "cell_type": "code",
   "execution_count": null,
   "metadata": {},
   "outputs": [],
   "source": [
    "from demographics.google_places import GooglePlacesAPI\n",
    "from demographics.util import get_viewport, get_grid_coordinates\n",
    "\n",
    "API_KEY = os.getenv(\"GOOGLE_MAPS_PLACES_API_KEY\")\n",
    "\n",
    "assert API_KEY, \"API_KEY not found in environment variables\"\n",
    "\n",
    "METERS_PER_MILE = 1609.34"
   ]
  },
  {
   "cell_type": "code",
   "execution_count": null,
   "metadata": {},
   "outputs": [],
   "source": [
    "google_places = GooglePlacesAPI(API_KEY, verbose=True)"
   ]
  },
  {
   "cell_type": "code",
   "execution_count": null,
   "metadata": {},
   "outputs": [],
   "source": [
    "def save_json(filename, prompt: str, fields: T.List[str], data: T.Dict[str, T.Any]):\n",
    "    if \"places\" not in data:\n",
    "        print(\"No places found\")\n",
    "        print(f\"Data: {json.dumps(data, indent=2)}\")\n",
    "        return\n",
    "\n",
    "    print(f\"Number of results: {len(results['places'])}\")\n",
    "\n",
    "    print(f\"Saving to {filename}\")\n",
    "    with open(filename, \"w\") as f:\n",
    "        data = {\"prompt\": prompt, \"fields\": fields, \"results\": results}\n",
    "        json.dump(data, f, indent=2)\n",
    "\n",
    "\n",
    "import math"
   ]
  },
  {
   "cell_type": "code",
   "execution_count": null,
   "metadata": {},
   "outputs": [],
   "source": [
    "ADVANCED_FIELDS = [\n",
    "    \"places.formattedAddress\",\n",
    "    \"places.displayName\",\n",
    "    \"places.nationalPhoneNumber\",\n",
    "    \"places.location\",\n",
    "    \"places.rating\",\n",
    "    \"places.googleMapsUri\",\n",
    "    \"places.websiteUri\",\n",
    "    \"places.regularOpeningHours\",\n",
    "    \"places.businessStatus\",\n",
    "    \"places.priceLevel\",\n",
    "    \"places.userRatingCount\",\n",
    "    \"places.takeout\",\n",
    "    \"places.delivery\",\n",
    "    \"places.dineIn\",\n",
    "    \"places.servesBreakfast\",\n",
    "    \"places.primaryTypeDisplayName\",\n",
    "    \"places.primaryType\",\n",
    "    \"places.editorialSummary\",\n",
    "    \"places.outdoorSeating\",\n",
    "    \"places.servesCoffee\",\n",
    "    \"places.paymentOptions\",\n",
    "    \"places.accessibilityOptions\",\n",
    "]\n",
    "\n",
    "TYPES = [\n",
    "    \"bakery\",\n",
    "    \"sandwich_shop\",\n",
    "    \"coffee_shop\",\n",
    "    \"cafe\",\n",
    "    \"fast_food_restaurant\",\n",
    "    \"store\",\n",
    "    \"restaurant\",\n",
    "    \"food\",\n",
    "    \"point_of_interest\",\n",
    "    \"establishment\",\n",
    "]\n",
    "ADVANCED_PROMPT = f\"All {'s, '.join([t for t in TYPES])}\"\n",
    "\n",
    "print(ADVANCED_PROMPT)"
   ]
  },
  {
   "cell_type": "code",
   "execution_count": null,
   "metadata": {},
   "outputs": [],
   "source": [
    "def calculate_cost_from_results(\n",
    "    search_block_width: float, cost_per_square: float, radius_miles: float\n",
    ") -> T.Tuple[int, float]:\n",
    "    meters_per_mile = 1609.34  # One mile in meters\n",
    "    search_block_area = (\n",
    "        search_block_width * search_block_width\n",
    "    )  # Area of one square in square meters\n",
    "\n",
    "    # Convert radius from miles to meters\n",
    "    radius_meters = radius_miles * meters_per_mile\n",
    "    area_width = radius_meters * 2\n",
    "\n",
    "    total_area_meters = area_width * area_width\n",
    "\n",
    "    # Calculate how many 50 meter squares fit into the area\n",
    "    number_of_squares = total_area_meters / search_block_area\n",
    "\n",
    "    total_cost = number_of_squares * cost_per_square\n",
    "\n",
    "    print(f\"Total searches: {number_of_squares:.0f}\")\n",
    "    print(f\"Total cost: ${total_cost:.2f}\")\n",
    "    print(f\"Searched area: {search_block_area:.2f} m^2\")\n",
    "    print(f\"Total area: {total_area_meters:.2f} m^2\")\n",
    "\n",
    "    return number_of_squares, total_cost"
   ]
  },
  {
   "cell_type": "code",
   "execution_count": null,
   "metadata": {},
   "outputs": [],
   "source": [
    "locations = {\n",
    "    \"Portland\": {\n",
    "        \"latitude\": 45.54,\n",
    "        \"longitude\": -122.98,\n",
    "    },\n",
    "    \"New York\": {\n",
    "        \"latitude\": 40.71,\n",
    "        \"longitude\": -74.01,\n",
    "    },\n",
    "}"
   ]
  },
  {
   "cell_type": "code",
   "execution_count": null,
   "metadata": {},
   "outputs": [],
   "source": [
    "location = locations[\"Portland\"]\n",
    "radius_miles = 20.0\n",
    "radius_meters = radius_miles * METERS_PER_MILE\n",
    "grid_sqft = 500.0\n",
    "\n",
    "grid = get_grid_coordinates(location[\"latitude\"], location[\"longitude\"], radius_meters, grid_sqft)\n",
    "\n",
    "print(f\"Grid size: {len(grid)}\")\n",
    "print(f\"First 5 grid points: {grid[:5]}\")"
   ]
  },
  {
   "cell_type": "code",
   "execution_count": null,
   "metadata": {},
   "outputs": [],
   "source": [
    "# Display the grid on a plotly scatter map\n",
    "\n",
    "px.set_mapbox_access_token(os.getenv(\"MAPBOX_API_KEY\"))\n",
    "df = px.data.carshare()\n",
    "fig = px.scatter_mapbox(\n",
    "    df,\n",
    "    lat=\"centroid_lat\",\n",
    "    lon=\"centroid_lon\",\n",
    "    color=\"peak_hour\",\n",
    "    size=\"car_hours\",\n",
    "    color_continuous_scale=px.colors.cyclical.IceFire,\n",
    "    size_max=15,\n",
    "    zoom=10,\n",
    ")\n",
    "fig.show()"
   ]
  },
  {
   "cell_type": "code",
   "execution_count": null,
   "metadata": {},
   "outputs": [],
   "source": [
    "prompt = \"All restaurants\"\n",
    "fields = ADVANCED_FIELDS\n",
    "radius_miles = 0.5\n",
    "# radius_meters = radius_miles * METERS_PER_MILE\n",
    "radius_meters = 150.0\n",
    "location = \"New York\"\n",
    "\n",
    "latitude = locations[location][\"latitude\"]\n",
    "longitude = locations[location][\"longitude\"]\n",
    "\n",
    "rect_viewpoint = get_viewport(latitude, longitude, radius_meters)\n",
    "\n",
    "data = {\"locationRestriction\": {\"rectangle\": rect_viewpoint}}\n",
    "results = google_places.text_search(prompt, fields, data)\n",
    "if \"places\" not in results:\n",
    "    print(\"No results found\")\n",
    "else:\n",
    "    filename = f\"{latitude}_{longitude}_{radius_miles}_location_rect_viewpoint_search.json\"\n",
    "    save_json(filename, prompt, fields, results)"
   ]
  },
  {
   "cell_type": "code",
   "execution_count": null,
   "metadata": {},
   "outputs": [],
   "source": [
    "radius_miles = 0.5\n",
    "latitude = 45.54\n",
    "longitude = -122.98\n",
    "prompt = ADVANCED_PROMPT\n",
    "fields = ADVANCED_FIELDS\n",
    "\n",
    "results = google_places.search_location_radius(\n",
    "    latitude, longitude, radius_miles, prompt, ADVANCED_FIELDS\n",
    ")\n",
    "filename = f\"{latitude}_{longitude}_{radius_miles}_location_radius_search.json\"\n",
    "save_json(filename, prompt, fields, results)"
   ]
  },
  {
   "cell_type": "code",
   "execution_count": null,
   "metadata": {},
   "outputs": [],
   "source": [
    "radius_miles = 1\n",
    "location = \"San Francisco\"\n",
    "prompt = f\"All bakeries within {radius_miles} miles of the center of {location}\"\n",
    "fields = [\"*\"]\n",
    "\n",
    "results = google_places.text_search(prompt, fields)\n",
    "filename = f\"{location}_{radius_miles}_text_search.json\"\n",
    "save_json(filename, prompt, fields, results)"
   ]
  },
  {
   "cell_type": "code",
   "execution_count": null,
   "metadata": {},
   "outputs": [],
   "source": [
    "radius_miles = 1\n",
    "location = \"San Francisco\"\n",
    "prompt = f\"All bakeries within {radius_miles} miles of the center of {location}\"\n",
    "fields = ADVANCED_FIELDS\n",
    "\n",
    "results = google_places.text_search(prompt, fields)\n",
    "filename = f\"{location}_{radius_miles}_text_search.json\"\n",
    "save_json(filename, prompt, fields, results)"
   ]
  },
  {
   "cell_type": "code",
   "execution_count": null,
   "metadata": {},
   "outputs": [],
   "source": [
    "prompt = \"All restaurants\"\n",
    "fields = ADVANCED_FIELDS\n",
    "data = {\n",
    "    \"locationBias\": {\n",
    "        \"circle\": {\"center\": {\"latitude\": 45.54, \"longitude\": -122.98}, \"radius\": 10.0}\n",
    "    }\n",
    "}\n",
    "results = google_places.text_search(prompt, fields, data)\n",
    "filename = f\"{latitude}_{longitude}_{radius_miles}_location_radius_search.json\"\n",
    "save_json(filename, prompt, fields, results)"
   ]
  }
 ],
 "metadata": {
  "kernelspec": {
   "display_name": "venv",
   "language": "python",
   "name": "python3"
  },
  "language_info": {
   "codemirror_mode": {
    "name": "ipython",
    "version": 3
   },
   "file_extension": ".py",
   "mimetype": "text/x-python",
   "name": "python",
   "nbconvert_exporter": "python",
   "pygments_lexer": "ipython3",
   "version": "3.11.6"
  }
 },
 "nbformat": 4,
 "nbformat_minor": 2
}
